{
 "cells": [
  {
   "cell_type": "markdown",
   "metadata": {},
   "source": [
    "# **Black Friday Sales**\n",
    "\n",
    "1. **Mô tả**:\n",
    "\n",
    "- Black Friday Sales là một bộ dữ liệu bao gồm các giao dịch bán hàng được ghi lại tại một cửa hàng bán lẻ. Đây là một bộ dữ liệu điển hình để khám phá và mở rộng kỹ năng tạo đặc trưng (feature engineering) cũng như hiểu biết từ các trải nghiệm mua sắm hàng ngày. Đây là một bài toán hồi quy, với bộ dữ liệu chứa hơn 500,000 dòng và 12 cột\n",
    "\n",
    "2. **Ứng dụng**:\n",
    "\n",
    "- Bộ dữ liệu này giúp ta hiểu sâu hơn về các khía cạnh của việc mua sắm trong ngày Black Friday, một trong những ngày mua sắm lớn nhất trong năm. Nó có thể được sử dụng để:\n",
    "\n",
    "  - Dự đoán số tiền mua sắm của khách hàng\n",
    "  - Phân tích hành vi mua sắm\n",
    "  - Xây dựng các chiến lược tiếp thị và bán hàng hiệu quả\n",
    "\n",
    "3. **Vấn đề cần giải quyết**:\n",
    "\n",
    "- Phân tích dữ liệu chuẩn bị cho việc dự đoán số tiền mua sắm của khách hàng\n",
    "\n",
    "> Thông Tin Các Cột Dữ Liệu (dataset: ``black_friday_data.csv``)\n",
    "\n",
    "| Tên Cột                    | Mô Tả                                                                 |\n",
    "|----------------------------|----------------------------------------------------------------------|\n",
    "| **User_ID**                | ID duy nhất của người dùng. Tổng cộng có 5891 người dùng trong bộ dữ liệu. |\n",
    "| **Product_ID**             | ID duy nhất của sản phẩm. Tổng cộng có 3623 sản phẩm trong bộ dữ liệu. |\n",
    "| **Gender**                 | Giới tính của người thực hiện giao dịch.                               |\n",
    "| **Age**                    | Nhóm tuổi của người thực hiện giao dịch.                               |\n",
    "| **Occupation**             | Nghề nghiệp của người dùng, được gán nhãn từ 0 đến 20.                |\n",
    "| **City_Category**          | Loại thành phố nơi người dùng sinh sống. Các thành phố được phân thành 3 loại 'A', 'B' và 'C'. |\n",
    "| **Stay_In_Current_City_Years** | Thời gian người dùng đã sống ở thành phố hiện tại.                       |\n",
    "| **Marital_Status**         | Tình trạng hôn nhân: 0 nếu chưa kết hôn và 1 nếu đã kết hôn.          |\n",
    "| **Product_Category_1**     | Loại sản phẩm. Tất cả 3 loại đã được gán nhãn số.                      |\n",
    "| **Product_Category_2**     | Loại sản phẩm. Tất cả 3 loại đã được gán nhãn số.                      |\n",
    "| **Product_Category_3**     | Loại sản phẩm. Tất cả 3 loại đã được gán nhãn số.                      |\n",
    "| **Purchase**               | Số tiền mua sắm.    "
   ]
  },
  {
   "cell_type": "markdown",
   "metadata": {},
   "source": [
    "## **THỰC HÀNH VÀ ỨNG DỤNG**"
   ]
  },
  {
   "cell_type": "markdown",
   "metadata": {},
   "source": [
    "- Import Library"
   ]
  },
  {
   "cell_type": "code",
   "execution_count": 1,
   "metadata": {},
   "outputs": [],
   "source": [
    "import pandas as pd \n",
    "import numpy as np\n",
    "import matplotlib.pyplot as plt\n",
    "import matplotlib"
   ]
  },
  {
   "cell_type": "markdown",
   "metadata": {},
   "source": [
    "### **A. Áp Dụng Kiến Thức Pandas**\n",
    "- Thực hành Đọc dữ liệu với file `.csv` \n",
    "- CSV là viết tắt của Comma Separated Value - là những giá trị được phân tách bằng dấu phẩy và là tệp văn bản thuần túy chứa dữ liệu. Nó được biết đến như một trong những định dạng lưu trữ dữ liệu đơn giản nhất và được Data Scientist và Data Engineer thường xuyên sử dụng."
   ]
  },
  {
   "cell_type": "markdown",
   "metadata": {},
   "source": [
    "#### Loading and Inspecting Data"
   ]
  },
  {
   "cell_type": "code",
   "execution_count": 2,
   "metadata": {},
   "outputs": [
    {
     "data": {
      "text/html": [
       "<div>\n",
       "<style scoped>\n",
       "    .dataframe tbody tr th:only-of-type {\n",
       "        vertical-align: middle;\n",
       "    }\n",
       "\n",
       "    .dataframe tbody tr th {\n",
       "        vertical-align: top;\n",
       "    }\n",
       "\n",
       "    .dataframe thead th {\n",
       "        text-align: right;\n",
       "    }\n",
       "</style>\n",
       "<table border=\"1\" class=\"dataframe\">\n",
       "  <thead>\n",
       "    <tr style=\"text-align: right;\">\n",
       "      <th></th>\n",
       "      <th>User_ID</th>\n",
       "      <th>Product_ID</th>\n",
       "      <th>Gender</th>\n",
       "      <th>Age</th>\n",
       "      <th>Occupation</th>\n",
       "      <th>City_Category</th>\n",
       "      <th>Stay_In_Current_City_Years</th>\n",
       "      <th>Marital_Status</th>\n",
       "      <th>Product_Category_1</th>\n",
       "      <th>Product_Category_2</th>\n",
       "      <th>Product_Category_3</th>\n",
       "      <th>Purchase</th>\n",
       "    </tr>\n",
       "  </thead>\n",
       "  <tbody>\n",
       "    <tr>\n",
       "      <th>0</th>\n",
       "      <td>1000001</td>\n",
       "      <td>P00069042</td>\n",
       "      <td>F</td>\n",
       "      <td>0-17</td>\n",
       "      <td>10</td>\n",
       "      <td>A</td>\n",
       "      <td>2</td>\n",
       "      <td>0</td>\n",
       "      <td>3</td>\n",
       "      <td>NaN</td>\n",
       "      <td>NaN</td>\n",
       "      <td>8370</td>\n",
       "    </tr>\n",
       "    <tr>\n",
       "      <th>1</th>\n",
       "      <td>1000001</td>\n",
       "      <td>P00248942</td>\n",
       "      <td>F</td>\n",
       "      <td>0-17</td>\n",
       "      <td>10</td>\n",
       "      <td>A</td>\n",
       "      <td>2</td>\n",
       "      <td>0</td>\n",
       "      <td>1</td>\n",
       "      <td>6.0</td>\n",
       "      <td>14.0</td>\n",
       "      <td>15200</td>\n",
       "    </tr>\n",
       "    <tr>\n",
       "      <th>2</th>\n",
       "      <td>1000001</td>\n",
       "      <td>P00087842</td>\n",
       "      <td>F</td>\n",
       "      <td>0-17</td>\n",
       "      <td>10</td>\n",
       "      <td>A</td>\n",
       "      <td>2</td>\n",
       "      <td>0</td>\n",
       "      <td>12</td>\n",
       "      <td>NaN</td>\n",
       "      <td>NaN</td>\n",
       "      <td>1422</td>\n",
       "    </tr>\n",
       "    <tr>\n",
       "      <th>3</th>\n",
       "      <td>1000001</td>\n",
       "      <td>P00085442</td>\n",
       "      <td>F</td>\n",
       "      <td>0-17</td>\n",
       "      <td>10</td>\n",
       "      <td>A</td>\n",
       "      <td>2</td>\n",
       "      <td>0</td>\n",
       "      <td>12</td>\n",
       "      <td>14.0</td>\n",
       "      <td>NaN</td>\n",
       "      <td>1057</td>\n",
       "    </tr>\n",
       "    <tr>\n",
       "      <th>4</th>\n",
       "      <td>1000002</td>\n",
       "      <td>P00285442</td>\n",
       "      <td>M</td>\n",
       "      <td>55+</td>\n",
       "      <td>16</td>\n",
       "      <td>C</td>\n",
       "      <td>4+</td>\n",
       "      <td>0</td>\n",
       "      <td>8</td>\n",
       "      <td>NaN</td>\n",
       "      <td>NaN</td>\n",
       "      <td>7969</td>\n",
       "    </tr>\n",
       "    <tr>\n",
       "      <th>5</th>\n",
       "      <td>1000003</td>\n",
       "      <td>P00193542</td>\n",
       "      <td>M</td>\n",
       "      <td>26-35</td>\n",
       "      <td>15</td>\n",
       "      <td>A</td>\n",
       "      <td>3</td>\n",
       "      <td>0</td>\n",
       "      <td>1</td>\n",
       "      <td>2.0</td>\n",
       "      <td>NaN</td>\n",
       "      <td>15227</td>\n",
       "    </tr>\n",
       "    <tr>\n",
       "      <th>6</th>\n",
       "      <td>1000004</td>\n",
       "      <td>P00184942</td>\n",
       "      <td>M</td>\n",
       "      <td>46-50</td>\n",
       "      <td>7</td>\n",
       "      <td>B</td>\n",
       "      <td>2</td>\n",
       "      <td>1</td>\n",
       "      <td>1</td>\n",
       "      <td>8.0</td>\n",
       "      <td>17.0</td>\n",
       "      <td>19215</td>\n",
       "    </tr>\n",
       "    <tr>\n",
       "      <th>7</th>\n",
       "      <td>1000004</td>\n",
       "      <td>P00346142</td>\n",
       "      <td>M</td>\n",
       "      <td>46-50</td>\n",
       "      <td>7</td>\n",
       "      <td>B</td>\n",
       "      <td>2</td>\n",
       "      <td>1</td>\n",
       "      <td>1</td>\n",
       "      <td>15.0</td>\n",
       "      <td>NaN</td>\n",
       "      <td>15854</td>\n",
       "    </tr>\n",
       "    <tr>\n",
       "      <th>8</th>\n",
       "      <td>1000004</td>\n",
       "      <td>P0097242</td>\n",
       "      <td>M</td>\n",
       "      <td>46-50</td>\n",
       "      <td>7</td>\n",
       "      <td>B</td>\n",
       "      <td>2</td>\n",
       "      <td>1</td>\n",
       "      <td>1</td>\n",
       "      <td>16.0</td>\n",
       "      <td>NaN</td>\n",
       "      <td>15686</td>\n",
       "    </tr>\n",
       "    <tr>\n",
       "      <th>9</th>\n",
       "      <td>1000005</td>\n",
       "      <td>P00274942</td>\n",
       "      <td>M</td>\n",
       "      <td>26-35</td>\n",
       "      <td>20</td>\n",
       "      <td>A</td>\n",
       "      <td>1</td>\n",
       "      <td>1</td>\n",
       "      <td>8</td>\n",
       "      <td>NaN</td>\n",
       "      <td>NaN</td>\n",
       "      <td>7871</td>\n",
       "    </tr>\n",
       "  </tbody>\n",
       "</table>\n",
       "</div>"
      ],
      "text/plain": [
       "   User_ID Product_ID Gender    Age  Occupation City_Category  \\\n",
       "0  1000001  P00069042      F   0-17          10             A   \n",
       "1  1000001  P00248942      F   0-17          10             A   \n",
       "2  1000001  P00087842      F   0-17          10             A   \n",
       "3  1000001  P00085442      F   0-17          10             A   \n",
       "4  1000002  P00285442      M    55+          16             C   \n",
       "5  1000003  P00193542      M  26-35          15             A   \n",
       "6  1000004  P00184942      M  46-50           7             B   \n",
       "7  1000004  P00346142      M  46-50           7             B   \n",
       "8  1000004   P0097242      M  46-50           7             B   \n",
       "9  1000005  P00274942      M  26-35          20             A   \n",
       "\n",
       "  Stay_In_Current_City_Years  Marital_Status  Product_Category_1  \\\n",
       "0                          2               0                   3   \n",
       "1                          2               0                   1   \n",
       "2                          2               0                  12   \n",
       "3                          2               0                  12   \n",
       "4                         4+               0                   8   \n",
       "5                          3               0                   1   \n",
       "6                          2               1                   1   \n",
       "7                          2               1                   1   \n",
       "8                          2               1                   1   \n",
       "9                          1               1                   8   \n",
       "\n",
       "   Product_Category_2  Product_Category_3  Purchase  \n",
       "0                 NaN                 NaN      8370  \n",
       "1                 6.0                14.0     15200  \n",
       "2                 NaN                 NaN      1422  \n",
       "3                14.0                 NaN      1057  \n",
       "4                 NaN                 NaN      7969  \n",
       "5                 2.0                 NaN     15227  \n",
       "6                 8.0                17.0     19215  \n",
       "7                15.0                 NaN     15854  \n",
       "8                16.0                 NaN     15686  \n",
       "9                 NaN                 NaN      7871  "
      ]
     },
     "execution_count": 2,
     "metadata": {},
     "output_type": "execute_result"
    }
   ],
   "source": [
    "test = pd.read_csv('./dataset/black_friday_data.csv')\n",
    "test.head(10)"
   ]
  },
  {
   "cell_type": "markdown",
   "metadata": {},
   "source": [
    "##### Giải thích:\n",
    "\n",
    "- ``pd.read_csv('./dataset/black_friday_data.csv')``: Sử dụng hàm read_csv của thư viện pandas để đọc dữ liệu từ file CSV có tên 'black_friday_data.csv' và lưu vào biến test.\n",
    "- ``test.head(10)``: Hiển thị 10 dòng đầu tiên của DataFrame mart để xem qua cấu trúc và một phần dữ liệu của file CSV đã được đọc."
   ]
  },
  {
   "cell_type": "code",
   "execution_count": 3,
   "metadata": {},
   "outputs": [
    {
     "data": {
      "text/plain": [
       "(537577, 12)"
      ]
     },
     "execution_count": 3,
     "metadata": {},
     "output_type": "execute_result"
    }
   ],
   "source": [
    "test.shape"
   ]
  },
  {
   "cell_type": "markdown",
   "metadata": {},
   "source": [
    "##### Giải thích:\n",
    "\n",
    "- ``test.shape``: Trả về một tuple thể hiện kích thước của DataFrame test, với số hàng và số cột tương ứng."
   ]
  },
  {
   "cell_type": "code",
   "execution_count": 4,
   "metadata": {},
   "outputs": [
    {
     "data": {
      "text/plain": [
       "Index(['User_ID', 'Product_ID', 'Gender', 'Age', 'Occupation', 'City_Category',\n",
       "       'Stay_In_Current_City_Years', 'Marital_Status', 'Product_Category_1',\n",
       "       'Product_Category_2', 'Product_Category_3', 'Purchase'],\n",
       "      dtype='object')"
      ]
     },
     "execution_count": 4,
     "metadata": {},
     "output_type": "execute_result"
    }
   ],
   "source": [
    "test.columns"
   ]
  },
  {
   "cell_type": "markdown",
   "metadata": {},
   "source": [
    "##### Giải thích:\n",
    "\n",
    "- ``test.columns``: Trả về danh sách các tên cột của DataFrame test"
   ]
  },
  {
   "cell_type": "code",
   "execution_count": 5,
   "metadata": {},
   "outputs": [
    {
     "name": "stdout",
     "output_type": "stream",
     "text": [
      "<class 'pandas.core.frame.DataFrame'>\n",
      "RangeIndex: 537577 entries, 0 to 537576\n",
      "Data columns (total 12 columns):\n",
      " #   Column                      Non-Null Count   Dtype  \n",
      "---  ------                      --------------   -----  \n",
      " 0   User_ID                     537577 non-null  int64  \n",
      " 1   Product_ID                  537577 non-null  object \n",
      " 2   Gender                      537577 non-null  object \n",
      " 3   Age                         537577 non-null  object \n",
      " 4   Occupation                  537577 non-null  int64  \n",
      " 5   City_Category               537577 non-null  object \n",
      " 6   Stay_In_Current_City_Years  537577 non-null  object \n",
      " 7   Marital_Status              537577 non-null  int64  \n",
      " 8   Product_Category_1          537577 non-null  int64  \n",
      " 9   Product_Category_2          370591 non-null  float64\n",
      " 10  Product_Category_3          164278 non-null  float64\n",
      " 11  Purchase                    537577 non-null  int64  \n",
      "dtypes: float64(2), int64(5), object(5)\n",
      "memory usage: 49.2+ MB\n"
     ]
    }
   ],
   "source": [
    "test.info()"
   ]
  },
  {
   "cell_type": "markdown",
   "metadata": {},
   "source": [
    "##### Giải thích:\n",
    "\n",
    "- ``test.info()``: Hiển thị thông tin tóm tắt về DataFrame test, bao gồm:\n",
    "    - Tổng số lượng hàng (entries).\n",
    "    - Tên các cột.\n",
    "    - Số lượng giá trị không rỗng (non-null) trong mỗi cột.\n",
    "    - Kiểu dữ liệu của mỗi cột (e.g., int64, float64, object).\n",
    "    - Dung lượng bộ nhớ mà DataFrame chiếm dụng."
   ]
  },
  {
   "cell_type": "markdown",
   "metadata": {},
   "source": [
    "### **B. Áp Dụng Kiến Thức Numpy**\n",
    "\n",
    "#### 1. Basic Numpy Operations"
   ]
  },
  {
   "cell_type": "code",
   "execution_count": 6,
   "metadata": {},
   "outputs": [
    {
     "name": "stdout",
     "output_type": "stream",
     "text": [
      "Mean Purchase: 9333.859852635065\n",
      "Median Purchase: 8062.0\n",
      "Standard Deviation of Purchase: 4981.017499809046\n"
     ]
    }
   ],
   "source": [
    "# Chuyển đổi cột 'Purchase' thành mảng numpy\n",
    "purchase = test['Purchase'].to_numpy()\n",
    "\n",
    "# Tính toán các thống kê mô tả cơ bản\n",
    "mean_purchase = np.mean(purchase)\n",
    "median_purchase = np.median(purchase)\n",
    "std_purchase = np.std(purchase)\n",
    "\n",
    "print(\"Mean Purchase:\", mean_purchase)\n",
    "print(\"Median Purchase:\", median_purchase)\n",
    "print(\"Standard Deviation of Purchase:\", std_purchase)"
   ]
  },
  {
   "cell_type": "markdown",
   "metadata": {},
   "source": [
    "##### Giải thích:\n",
    "\n",
    "- ``to_numpy()``: Chuyển đổi cột 'Purchase' thành mảng numpy.\n",
    "- ``np.mean()``: Tính giá trị trung bình của mảng.\n",
    "- ``np.median()``: Tính giá trị trung vị của mảng.\n",
    "- ``np.std()``: Tính độ lệch chuẩn của mảng."
   ]
  },
  {
   "cell_type": "markdown",
   "metadata": {},
   "source": [
    "#### 2. Handling Missing Values"
   ]
  },
  {
   "cell_type": "code",
   "execution_count": 7,
   "metadata": {},
   "outputs": [
    {
     "name": "stdout",
     "output_type": "stream",
     "text": [
      "Number of missing values in 'Product_Category_2': 166986\n",
      "Number of missing values in 'Product_Category_3': 373299\n"
     ]
    }
   ],
   "source": [
    "# Kiểm tra các giá trị thiếu trong 'Product_Category_2' và 'Product_Category_3'\n",
    "missing_values_cat2 = np.isnan(test['Product_Category_2']).sum()\n",
    "missing_values_cat3 = np.isnan(test['Product_Category_3']).sum()\n",
    "print(\"Number of missing values in 'Product_Category_2':\", missing_values_cat2)\n",
    "print(\"Number of missing values in 'Product_Category_3':\", missing_values_cat3)"
   ]
  },
  {
   "cell_type": "markdown",
   "metadata": {},
   "source": [
    "##### Giải thích:\n",
    "\n",
    "- ``np.isnan()``: Kiểm tra các giá trị NaN trong mảng."
   ]
  },
  {
   "cell_type": "markdown",
   "metadata": {},
   "source": [
    "#### 3. Data Transformation"
   ]
  },
  {
   "cell_type": "code",
   "execution_count": 8,
   "metadata": {},
   "outputs": [
    {
     "name": "stdout",
     "output_type": "stream",
     "text": [
      "Original Purchase: [ 8370 15200  1422  1057  7969]\n",
      "Log Transformed Purchase: [9.03240916 9.62905071 7.25981961 6.96318999 8.98331429]\n"
     ]
    }
   ],
   "source": [
    "# Biến đổi log của 'Purchase'\n",
    "log_purchase = np.log(purchase)\n",
    "\n",
    "# Hiển thị dữ liệu đã biến đổi\n",
    "print(\"Original Purchase:\", purchase[:5])\n",
    "print(\"Log Transformed Purchase:\", log_purchase[:5])"
   ]
  },
  {
   "cell_type": "markdown",
   "metadata": {},
   "source": [
    "##### Giải thích:\n",
    "\n",
    "- ``np.log()``: Áp dụng phép biến đổi log tự nhiên cho các giá trị trong mảng."
   ]
  },
  {
   "cell_type": "markdown",
   "metadata": {},
   "source": [
    "#### 4. Data Aggregation"
   ]
  },
  {
   "cell_type": "code",
   "execution_count": 9,
   "metadata": {},
   "outputs": [
    {
     "name": "stdout",
     "output_type": "stream",
     "text": [
      "Total Purchase by Age Group: [ 132659006  901669280 1999749106 1010649565  413418223  361908356\n",
      "  197614842]\n"
     ]
    }
   ],
   "source": [
    "# Tổng hợp 'Purchase' theo 'Age'\n",
    "age_purchase = test.groupby('Age')['Purchase'].sum().to_numpy()\n",
    "\n",
    "# Hiển thị dữ liệu tổng hợp\n",
    "print(\"Total Purchase by Age Group:\", age_purchase)"
   ]
  },
  {
   "cell_type": "markdown",
   "metadata": {},
   "source": [
    "##### Giải thích:\n",
    "\n",
    "- ``groupby()``: Nhóm dữ liệu theo cột 'Age'.\n",
    "- ``sum()``: Tính tổng số tiền mua sắm cho từng nhóm tuổi.\n",
    "- ``to_numpy()``: Chuyển đổi kết quả thành mảng numpy."
   ]
  },
  {
   "cell_type": "markdown",
   "metadata": {},
   "source": [
    "#### 5. Data Normalization"
   ]
  },
  {
   "cell_type": "code",
   "execution_count": 10,
   "metadata": {},
   "outputs": [
    {
     "name": "stdout",
     "output_type": "stream",
     "text": [
      "Normalized Purchase: [0.34425471 0.63151918 0.05202725 0.03667564 0.32738896]\n"
     ]
    }
   ],
   "source": [
    "# Chuẩn hóa Min-Max của 'Purchase'\n",
    "min_purchase = np.min(purchase)\n",
    "max_purchase = np.max(purchase)\n",
    "\n",
    "normalized_purchase = (purchase - min_purchase) / (max_purchase - min_purchase)\n",
    "print(\"Normalized Purchase:\", normalized_purchase[:5])"
   ]
  },
  {
   "cell_type": "markdown",
   "metadata": {},
   "source": [
    "##### Giải thích:\n",
    "\n",
    "- ``np.min()``: Tìm giá trị nhỏ nhất trong mảng.\n",
    "- ``np.max()``: Tìm giá trị lớn nhất trong mảng.\n",
    "- Biểu thức ``(purchase - min_purchase) / (max_purchase - min_purchase)``: Áp dụng chuẩn hóa Min-Max cho các giá trị trong mảng."
   ]
  },
  {
   "cell_type": "markdown",
   "metadata": {},
   "source": [
    "### **C. Thực Hiện Làm Sạch Dữ Liệu - Data Cleaning**"
   ]
  },
  {
   "cell_type": "code",
   "execution_count": 11,
   "metadata": {},
   "outputs": [
    {
     "name": "stdout",
     "output_type": "stream",
     "text": [
      "User_ID                            0\n",
      "Product_ID                         0\n",
      "Gender                             0\n",
      "Age                                0\n",
      "Occupation                         0\n",
      "City_Category                      0\n",
      "Stay_In_Current_City_Years         0\n",
      "Marital_Status                     0\n",
      "Product_Category_1                 0\n",
      "Product_Category_2            166986\n",
      "Product_Category_3            373299\n",
      "Purchase                           0\n",
      "dtype: int64\n"
     ]
    }
   ],
   "source": [
    "# Kiểm tra các giá trị bị thiếu\n",
    "missing_values = test.isnull().sum()\n",
    "print(missing_values)"
   ]
  },
  {
   "cell_type": "markdown",
   "metadata": {},
   "source": [
    "##### Giải thích:\n",
    "\n",
    "- ``test.isnull().sum()``: Kiểm tra và đếm số lượng giá trị bị thiếu (NaN) trong mỗi cột của DataFrame test."
   ]
  },
  {
   "cell_type": "code",
   "execution_count": 12,
   "metadata": {},
   "outputs": [
    {
     "name": "stdout",
     "output_type": "stream",
     "text": [
      "User_ID                        0.000000\n",
      "Product_ID                     0.000000\n",
      "Gender                         0.000000\n",
      "Age                            0.000000\n",
      "Occupation                     0.000000\n",
      "City_Category                  0.000000\n",
      "Stay_In_Current_City_Years     0.000000\n",
      "Marital_Status                 0.000000\n",
      "Product_Category_1             0.000000\n",
      "Product_Category_2            31.062713\n",
      "Product_Category_3            69.441029\n",
      "Purchase                       0.000000\n",
      "dtype: float64\n"
     ]
    }
   ],
   "source": [
    "# Tính phần trăm các giá trị bị thiếu so với tổng số dữ liệu\n",
    "missing_percentage = (test.isnull().sum() / len(test)) * 100\n",
    "print(missing_percentage)"
   ]
  },
  {
   "cell_type": "markdown",
   "metadata": {},
   "source": [
    "##### Giải thích:\n",
    "\n",
    "- ``test.isnull().sum() / len(test) * 100``: Tính phần trăm các giá trị bị thiếu so với tổng số dòng dữ liệu trong DataFrame test.\n",
    "- Từ output trả về, ta có: ~31% giá trị Product_Category_2 + ~69% giá trị thiếu Product_Category_3."
   ]
  },
  {
   "cell_type": "code",
   "execution_count": 13,
   "metadata": {},
   "outputs": [],
   "source": [
    "# Điền các giá trị thiếu trong cột 'Product_Category_2' bằng giá trị trung bình của cột này\n",
    "test['Product_Category_2'] = test['Product_Category_2'].fillna(test['Product_Category_2'].mean())\n",
    "\n",
    "# Điền các giá trị thiếu trong cột 'Product_Category_3' bằng giá trị trung bình của cột này\n",
    "test['Product_Category_3'] = test['Product_Category_3'].fillna(test['Product_Category_3'].mean())"
   ]
  },
  {
   "cell_type": "markdown",
   "metadata": {},
   "source": [
    "##### Giải thích:\n",
    "\n",
    "- ``test['Product_Category_2'].fillna()``: Điền các giá trị thiếu trong cột 'Product_Category_2' bằng giá trị trung bình của cột và cập nhật trực tiếp vào DataFrame test.\n",
    "- ``test['Product_Category_3'].fillna()``: Điền các giá trị thiếu trong cột 'Product_Category_3' bằng giá trị trung bình của cột và cập nhật trực tiếp vào DataFrame test."
   ]
  },
  {
   "cell_type": "code",
   "execution_count": 14,
   "metadata": {},
   "outputs": [
    {
     "name": "stdout",
     "output_type": "stream",
     "text": [
      "User_ID                       0\n",
      "Product_ID                    0\n",
      "Gender                        0\n",
      "Age                           0\n",
      "Occupation                    0\n",
      "City_Category                 0\n",
      "Stay_In_Current_City_Years    0\n",
      "Marital_Status                0\n",
      "Product_Category_1            0\n",
      "Product_Category_2            0\n",
      "Product_Category_3            0\n",
      "Purchase                      0\n",
      "dtype: int64\n"
     ]
    }
   ],
   "source": [
    "# Xác minh các giá trị bị thiếu đã được xử lý\n",
    "missing_values_after = test.isnull().sum()\n",
    "print(missing_values_after)"
   ]
  },
  {
   "cell_type": "markdown",
   "metadata": {},
   "source": [
    "##### Giải thích:\n",
    "\n",
    "- ``test.isnull().sum()``: Kiểm tra và đếm lại số lượng giá trị bị thiếu trong mỗi cột của DataFrame test sau khi đã xử lý các giá trị bị thiếu."
   ]
  },
  {
   "cell_type": "markdown",
   "metadata": {},
   "source": [
    "### **D. Áp Dụng Kiến Thức Matplotlib - Data Visualization**"
   ]
  }
 ],
 "metadata": {
  "kernelspec": {
   "display_name": "Python 3",
   "language": "python",
   "name": "python3"
  },
  "language_info": {
   "codemirror_mode": {
    "name": "ipython",
    "version": 3
   },
   "file_extension": ".py",
   "mimetype": "text/x-python",
   "name": "python",
   "nbconvert_exporter": "python",
   "pygments_lexer": "ipython3",
   "version": "3.12.3"
  }
 },
 "nbformat": 4,
 "nbformat_minor": 2
}
