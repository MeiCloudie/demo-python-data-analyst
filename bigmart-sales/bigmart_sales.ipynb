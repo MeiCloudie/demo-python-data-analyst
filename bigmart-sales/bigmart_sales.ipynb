{
 "cells": [
  {
   "cell_type": "markdown",
   "metadata": {},
   "source": [
    "# **BigMart Sales**\n",
    "\n",
    "1. **Mô tả**:\n",
    "\n",
    "- Bigmart Sales là một bộ dữ liệu bao gồm các ghi chép giao dịch của một cửa hàng bán lẻ. Đây là một bài toán hồi quy, nơi chúng ta cần dự đoán doanh số bán hàng của một cửa hàng dựa trên các biến số khác nhau. Bộ dữ liệu có tổng cộng 8523 dòng và 12 biến.\n",
    "\n",
    "2. **Ứng dụng**:\n",
    "\n",
    "- Ngành bán lẻ sử dụng phân tích dữ liệu để tối ưu hóa các quy trình kinh doanh như:\n",
    "\n",
    "+ Sắp xếp sản phẩm\n",
    "+ Quản lý hàng tồn kho\n",
    "+ Đề xuất các chương trình khuyến mãi tùy chỉnh\n",
    "+ Đóng gói sản phẩm\n",
    "\n",
    "3. **Vấn đề cần giải quyết**:\n",
    "\n",
    "- Phân tích dữ liệu chuẩn bị cho việc dự đoán doanh số bán hàng của một cửa hàng."
   ]
  },
  {
   "cell_type": "markdown",
   "metadata": {},
   "source": [
    "## **THỰC HÀNH VÀ ỨNG DỤNG**"
   ]
  },
  {
   "cell_type": "markdown",
   "metadata": {},
   "source": [
    "- Import Library"
   ]
  },
  {
   "cell_type": "code",
   "execution_count": null,
   "metadata": {},
   "outputs": [],
   "source": [
    "import pandas as pd \n",
    "import numpy as np\n",
    "import matplotlib.pyplot as plt\n",
    "import matplotlib"
   ]
  },
  {
   "cell_type": "markdown",
   "metadata": {},
   "source": [
    "### **A. Áp Dụng Kiến Thức Pandas**\n",
    "- Thực hành Đọc dữ liệu với file `.csv` \n",
    "- CSV là viết tắt của Comma Separated Value - là những giá trị được phân tách bằng dấu phẩy và là tệp văn bản thuần túy chứa dữ liệu. Nó được biết đến như một trong những định dạng lưu trữ dữ liệu đơn giản nhất và được Data Scientist và Data Engineer thường xuyên sử dụng. "
   ]
  },
  {
   "cell_type": "markdown",
   "metadata": {},
   "source": [
    "#### Loading and Inspecting Data"
   ]
  },
  {
   "cell_type": "code",
   "execution_count": null,
   "metadata": {},
   "outputs": [],
   "source": [
    "mart = pd.read_csv('./dataset/bigmart_data.csv')\n",
    "mart.head(10)"
   ]
  },
  {
   "cell_type": "markdown",
   "metadata": {},
   "source": [
    "##### Giải thích:\n",
    "\n",
    "- ``pd.read_csv('./dataset/bigmart_data.csv')``: Sử dụng hàm read_csv của thư viện pandas để đọc dữ liệu từ file CSV có tên 'bigmart_data.csv' và lưu vào biến mart.\n",
    "- ``mart.head(10)``: Hiển thị 10 dòng đầu tiên của DataFrame mart để xem qua cấu trúc và một phần dữ liệu của file CSV đã được đọc."
   ]
  },
  {
   "cell_type": "code",
   "execution_count": null,
   "metadata": {},
   "outputs": [],
   "source": [
    "mart.shape"
   ]
  },
  {
   "cell_type": "markdown",
   "metadata": {},
   "source": [
    "##### Giải thích:\n",
    "\n",
    "- ``mart.shape``: Trả về một tuple thể hiện kích thước của DataFrame mart, với số hàng và số cột tương ứng."
   ]
  },
  {
   "cell_type": "code",
   "execution_count": null,
   "metadata": {},
   "outputs": [],
   "source": [
    "mart.columns"
   ]
  },
  {
   "cell_type": "markdown",
   "metadata": {},
   "source": [
    "##### Giải thích:\n",
    "\n",
    "- ``mart.columns``: Trả về danh sách các tên cột của DataFrame mart"
   ]
  },
  {
   "cell_type": "code",
   "execution_count": null,
   "metadata": {},
   "outputs": [],
   "source": [
    "mart.info()"
   ]
  },
  {
   "cell_type": "markdown",
   "metadata": {},
   "source": [
    "##### Giải thích:\n",
    "\n",
    "- ``mart.info()``: Hiển thị thông tin tóm tắt về DataFrame mart, bao gồm:\n",
    "    - Tổng số lượng hàng (entries).\n",
    "    - Tên các cột.\n",
    "    - Số lượng giá trị không rỗng (non-null) trong mỗi cột.\n",
    "    - Kiểu dữ liệu của mỗi cột (e.g., int64, float64, object).\n",
    "    - Dung lượng bộ nhớ mà DataFrame chiếm dụng."
   ]
  },
  {
   "cell_type": "markdown",
   "metadata": {},
   "source": [
    "### **B. Áp Dụng Kiến Thức Numpy**\n",
    "\n",
    "#### 1. Basic Numpy Operations"
   ]
  },
  {
   "cell_type": "code",
   "execution_count": null,
   "metadata": {},
   "outputs": [],
   "source": [
    "item_weight = mart['Item_Weight'].to_numpy()\n",
    "\n",
    "mean_weight = np.nanmean(item_weight)\n",
    "median_weight = np.nanmedian(item_weight) \n",
    "std_weight = np.nanstd(item_weight) \n",
    "\n",
    "print(\"Mean Weight:\", mean_weight)\n",
    "print(\"Median Weight:\", median_weight)\n",
    "print(\"Standard Deviation of Weight:\", std_weight)"
   ]
  },
  {
   "cell_type": "markdown",
   "metadata": {},
   "source": [
    "##### Giải thích:\n",
    "\n",
    "- `to_numpy()`: Chuyển đổi cột 'Item_Weight' thành mảng numpy.\n",
    "- `np.nanmean()`: Tính giá trị trung bình của mảng, bỏ qua các giá trị NaN.\n",
    "- `np.nanmedian()`: Tính giá trị trung vị của mảng, bỏ qua các giá trị NaN.\n",
    "- `np.nanstd()`: Tính độ lệch chuẩn của mảng, bỏ qua các giá trị NaN."
   ]
  },
  {
   "cell_type": "markdown",
   "metadata": {},
   "source": [
    "#### 2. Handling Missing Values"
   ]
  },
  {
   "cell_type": "code",
   "execution_count": null,
   "metadata": {},
   "outputs": [],
   "source": [
    "# Kiểm tra các giá trị thiếu trong 'Item_Weight'\n",
    "missing_values = np.isnan(item_weight).sum()  # Đếm số lượng giá trị NaN trong mảng\n",
    "print(\"Number of missing values in 'Item_Weight':\", missing_values)\n",
    "\n",
    "# Điền các giá trị thiếu bằng giá trị trung bình (không thay đổi dữ liệu hiện có)\n",
    "item_weight_filled = np.where(np.isnan(item_weight), mean_weight, item_weight)\n",
    "print(\"Missing values filled with mean.\")"
   ]
  },
  {
   "cell_type": "markdown",
   "metadata": {},
   "source": [
    "##### Giải thích:\n",
    "\n",
    "- ``np.isnan()``: Kiểm tra các giá trị NaN trong mảng.\n",
    "- ``np.where()``: Thay thế các giá trị NaN trong mảng bằng giá trị trung bình đã tính được."
   ]
  },
  {
   "cell_type": "markdown",
   "metadata": {},
   "source": [
    "#### 3. Data Transformation"
   ]
  },
  {
   "cell_type": "code",
   "execution_count": null,
   "metadata": {},
   "outputs": [],
   "source": [
    "# Biến đổi log của 'Item_MRP'\n",
    "item_mrp = mart['Item_MRP'].to_numpy()\n",
    "log_item_mrp = np.log(item_mrp)\n",
    "\n",
    "# Hiển thị dữ liệu đã biến đổi\n",
    "print(\"Original MRP:\", item_mrp[:5])\n",
    "print(\"Log Transformed MRP:\", log_item_mrp[:5])"
   ]
  },
  {
   "cell_type": "markdown",
   "metadata": {},
   "source": [
    "##### Giải thích:\n",
    "\n",
    "- ``np.log()``: Áp dụng phép biến đổi log tự nhiên cho các giá trị trong mảng."
   ]
  },
  {
   "cell_type": "markdown",
   "metadata": {},
   "source": [
    "#### 4. Data Aggregation"
   ]
  },
  {
   "cell_type": "code",
   "execution_count": null,
   "metadata": {},
   "outputs": [],
   "source": [
    "# Tổng hợp 'Item_Outlet_Sales' theo 'Item_Type'\n",
    "item_type_sales = mart.groupby('Item_Type')['Item_Outlet_Sales'].sum().to_numpy()\n",
    "\n",
    "# Hiển thị dữ liệu tổng hợp\n",
    "print(\"Sales by Item Type:\", item_type_sales)"
   ]
  },
  {
   "cell_type": "markdown",
   "metadata": {},
   "source": [
    "##### Giải thích:\n",
    "\n",
    "- ``groupby()``: Nhóm dữ liệu theo 'Item_Type'.\n",
    "- ``sum()``: Tính tổng doanh số bán hàng cho từng loại sản phẩm.\n",
    "- ``to_numpy()``: Chuyển đổi kết quả thành mảng numpy."
   ]
  },
  {
   "cell_type": "markdown",
   "metadata": {},
   "source": [
    "#### 5. Data Normalization"
   ]
  },
  {
   "cell_type": "code",
   "execution_count": null,
   "metadata": {},
   "outputs": [],
   "source": [
    "# Chuẩn hóa Min-Max của 'Item_Visibility'\n",
    "item_visibility = mart['Item_Visibility'].to_numpy()\n",
    "min_visibility = np.min(item_visibility)\n",
    "max_visibility = np.max(item_visibility)\n",
    "\n",
    "normalized_visibility = (item_visibility - min_visibility) / (max_visibility - min_visibility)\n",
    "print(\"Normalized Visibility:\", normalized_visibility[:5])"
   ]
  },
  {
   "cell_type": "markdown",
   "metadata": {},
   "source": [
    "##### Giải thích:\n",
    "\n",
    "- ``np.min()``: Tìm giá trị nhỏ nhất trong mảng.\n",
    "- ``np.max()``: Tìm giá trị lớn nhất trong mảng.\n",
    "- Biểu thức (``item_visibility`` - ``min_visibility``) / (``max_visibility`` - ``min_visibility``): Áp dụng chuẩn hóa Min-Max cho các giá trị trong mảng."
   ]
  }
 ],
 "metadata": {
  "kernelspec": {
   "display_name": "Python 3",
   "language": "python",
   "name": "python3"
  },
  "language_info": {
   "codemirror_mode": {
    "name": "ipython",
    "version": 3
   },
   "file_extension": ".py",
   "mimetype": "text/x-python",
   "name": "python",
   "nbconvert_exporter": "python",
   "pygments_lexer": "ipython3",
   "version": "3.12.3"
  }
 },
 "nbformat": 4,
 "nbformat_minor": 2
}
